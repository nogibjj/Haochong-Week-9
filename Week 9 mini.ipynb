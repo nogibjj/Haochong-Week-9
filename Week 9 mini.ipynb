{
 "cells": [
  {
   "cell_type": "markdown",
   "id": "00e4402d",
   "metadata": {},
   "source": [
    "Week 9: Cloud-Hosted Notebook with Data Manipulation"
   ]
  },
  {
   "cell_type": "markdown",
   "id": "5d7605b6",
   "metadata": {},
   "source": [
    "Ingest:\n",
    "1.basic info"
   ]
  },
  {
   "cell_type": "code",
   "execution_count": 3,
   "id": "11cea6df",
   "metadata": {},
   "outputs": [
    {
     "data": {
      "text/html": [
       "<div>\n",
       "<style scoped>\n",
       "    .dataframe tbody tr th:only-of-type {\n",
       "        vertical-align: middle;\n",
       "    }\n",
       "\n",
       "    .dataframe tbody tr th {\n",
       "        vertical-align: top;\n",
       "    }\n",
       "\n",
       "    .dataframe thead th {\n",
       "        text-align: right;\n",
       "    }\n",
       "</style>\n",
       "<table border=\"1\" class=\"dataframe\">\n",
       "  <thead>\n",
       "    <tr style=\"text-align: right;\">\n",
       "      <th></th>\n",
       "      <th>country</th>\n",
       "      <th>country_id</th>\n",
       "      <th>group</th>\n",
       "      <th>spi</th>\n",
       "      <th>spi_offense</th>\n",
       "      <th>spi_defense</th>\n",
       "      <th>win_group</th>\n",
       "      <th>sixteen</th>\n",
       "      <th>quarter</th>\n",
       "      <th>semi</th>\n",
       "      <th>cup</th>\n",
       "      <th>win</th>\n",
       "    </tr>\n",
       "  </thead>\n",
       "  <tbody>\n",
       "    <tr>\n",
       "      <th>0</th>\n",
       "      <td>Algeria</td>\n",
       "      <td>ALG</td>\n",
       "      <td>h</td>\n",
       "      <td>63.43</td>\n",
       "      <td>1.1208</td>\n",
       "      <td>1.1636</td>\n",
       "      <td>0.0631</td>\n",
       "      <td>0.2032</td>\n",
       "      <td>0.038517</td>\n",
       "      <td>0.007996</td>\n",
       "      <td>0.001021</td>\n",
       "      <td>0.000126</td>\n",
       "    </tr>\n",
       "    <tr>\n",
       "      <th>1</th>\n",
       "      <td>Argentina</td>\n",
       "      <td>ARG</td>\n",
       "      <td>f</td>\n",
       "      <td>90.00</td>\n",
       "      <td>2.8541</td>\n",
       "      <td>0.4494</td>\n",
       "      <td>0.7350</td>\n",
       "      <td>0.9279</td>\n",
       "      <td>0.669904</td>\n",
       "      <td>0.468159</td>\n",
       "      <td>0.281758</td>\n",
       "      <td>0.127799</td>\n",
       "    </tr>\n",
       "    <tr>\n",
       "      <th>2</th>\n",
       "      <td>Australia</td>\n",
       "      <td>AUS</td>\n",
       "      <td>b</td>\n",
       "      <td>69.45</td>\n",
       "      <td>1.6395</td>\n",
       "      <td>1.2349</td>\n",
       "      <td>0.0151</td>\n",
       "      <td>0.0762</td>\n",
       "      <td>0.009646</td>\n",
       "      <td>0.002943</td>\n",
       "      <td>0.000671</td>\n",
       "      <td>0.000093</td>\n",
       "    </tr>\n",
       "    <tr>\n",
       "      <th>3</th>\n",
       "      <td>Belgium</td>\n",
       "      <td>BEL</td>\n",
       "      <td>h</td>\n",
       "      <td>81.97</td>\n",
       "      <td>2.1373</td>\n",
       "      <td>0.7410</td>\n",
       "      <td>0.4781</td>\n",
       "      <td>0.7688</td>\n",
       "      <td>0.351536</td>\n",
       "      <td>0.148459</td>\n",
       "      <td>0.054136</td>\n",
       "      <td>0.014904</td>\n",
       "    </tr>\n",
       "    <tr>\n",
       "      <th>4</th>\n",
       "      <td>Bosnia and Herzegovina</td>\n",
       "      <td>BIH</td>\n",
       "      <td>f</td>\n",
       "      <td>80.31</td>\n",
       "      <td>2.3113</td>\n",
       "      <td>0.9861</td>\n",
       "      <td>0.1599</td>\n",
       "      <td>0.5589</td>\n",
       "      <td>0.261950</td>\n",
       "      <td>0.112098</td>\n",
       "      <td>0.031611</td>\n",
       "      <td>0.008964</td>\n",
       "    </tr>\n",
       "  </tbody>\n",
       "</table>\n",
       "</div>"
      ],
      "text/plain": [
       "                  country country_id group    spi  spi_offense  spi_defense  \\\n",
       "0                 Algeria        ALG     h  63.43       1.1208       1.1636   \n",
       "1               Argentina        ARG     f  90.00       2.8541       0.4494   \n",
       "2               Australia        AUS     b  69.45       1.6395       1.2349   \n",
       "3                 Belgium        BEL     h  81.97       2.1373       0.7410   \n",
       "4  Bosnia and Herzegovina        BIH     f  80.31       2.3113       0.9861   \n",
       "\n",
       "   win_group  sixteen   quarter      semi       cup       win  \n",
       "0     0.0631   0.2032  0.038517  0.007996  0.001021  0.000126  \n",
       "1     0.7350   0.9279  0.669904  0.468159  0.281758  0.127799  \n",
       "2     0.0151   0.0762  0.009646  0.002943  0.000671  0.000093  \n",
       "3     0.4781   0.7688  0.351536  0.148459  0.054136  0.014904  \n",
       "4     0.1599   0.5589  0.261950  0.112098  0.031611  0.008964  "
      ]
     },
     "execution_count": 3,
     "metadata": {},
     "output_type": "execute_result"
    }
   ],
   "source": [
    "import pandas as pd\n",
    "\n",
    "example_csv = \"https://github.com/fivethirtyeight/data/blob/15f210532b2a642e85738ddefa7a2945d47e2585/world-cup-predictions/wc-20140609-140000.csv?raw=True\"\n",
    "data = pd.read_csv(example_csv)\n",
    "data.head()"
   ]
  },
  {
   "cell_type": "code",
   "execution_count": 2,
   "id": "9920d88d",
   "metadata": {},
   "outputs": [],
   "source": [
    "data.tail()\n"
   ]
  },
  {
   "cell_type": "code",
   "execution_count": 4,
   "id": "38be28cd",
   "metadata": {},
   "outputs": [],
   "source": [
    "data.shape"
   ]
  },
  {
   "cell_type": "markdown",
   "id": "d4576d5c",
   "metadata": {},
   "source": [
    "EDA:"
   ]
  },
  {
   "cell_type": "code",
   "execution_count": 6,
   "id": "b56d70ab",
   "metadata": {},
   "outputs": [
    {
     "data": {
      "text/plain": [
       "2.0"
      ]
     },
     "execution_count": 6,
     "metadata": {},
     "output_type": "execute_result"
    }
   ],
   "source": [
    "data.describe()"
   ]
  },
  {
   "cell_type": "markdown",
   "id": "6afb3a30",
   "metadata": {},
   "source": [
    "What is the distribution of Soccer Power Index for the 2018 World Cup?"
   ]
  },
  {
   "cell_type": "code",
   "execution_count": 5,
   "id": "0a8b3ee0",
   "metadata": {},
   "outputs": [
    {
     "data": {
      "image/png": "[encoded data removed]",
      "text/plain": [
       "<Figure size 720x432 with 1 Axes>"
      ]
     },
     "metadata": {
      "needs_background": "light"
     },
     "output_type": "display_data"
    }
   ],
   "source": [
    "import matplotlib.pyplot as plt\n",
    "pd.set_option(\"display.max_columns\", None)\n",
    "plt.figure(figsize=(10, 6))\n",
    "plt.hist(data[\"spi\"], bins=20, edgecolor=\"black\")\n",
    "plt.title(\"Soccer Power Index Distribution\")\n",
    "plt.xlabel(\"Soccer Power Index\")\n",
    "plt.ylabel(\"Frequency\")\n",
    "plt.show() "
   ]
  },
  {
   "cell_type": "markdown",
   "id": "c1226aa8",
   "metadata": {},
   "source": [
    "What is each group's chance of winning the World Cup?"
   ]
  },
  {
   "cell_type": "code",
   "execution_count": 9,
   "id": "cf8f9bb1",
   "metadata": {},
   "outputs": [
    {
     "data": {
      "image/png": "[encoded data removed]",
      "text/plain": [
       "<Figure size 720x432 with 1 Axes>"
      ]
     },
     "metadata": {
      "needs_background": "light"
     },
     "output_type": "display_data"
    }
   ],
   "source": [
    "df = data.groupby(\"group\")[\"win\"].sum().reset_index()\n",
    "\n",
    "plt.figure(figsize=(10, 6))\n",
    "plt.bar(df[\"group\"].tolist(), df[\"win\"].tolist())  # Convert to lists\n",
    "plt.title(\"Possibility Win The Whole Thing by Group\")\n",
    "plt.xlabel(\"Group\")\n",
    "plt.ylabel(\"Win Possibility\")\n",
    "plt.show()"
   ]
  },
  {
   "cell_type": "markdown",
   "id": "e9495031",
   "metadata": {},
   "source": [
    "Load another day's prediction and merge them together:"
   ]
  },
  {
   "cell_type": "code",
   "execution_count": 10,
   "id": "c5cf1918",
   "metadata": {},
   "outputs": [
    {
     "data": {
      "text/html": [
       "<div>\n",
       "<style scoped>\n",
       "    .dataframe tbody tr th:only-of-type {\n",
       "        vertical-align: middle;\n",
       "    }\n",
       "\n",
       "    .dataframe tbody tr th {\n",
       "        vertical-align: top;\n",
       "    }\n",
       "\n",
       "    .dataframe thead th {\n",
       "        text-align: right;\n",
       "    }\n",
       "</style>\n",
       "<table border=\"1\" class=\"dataframe\">\n",
       "  <thead>\n",
       "    <tr style=\"text-align: right;\">\n",
       "      <th></th>\n",
       "      <th>country</th>\n",
       "      <th>country_id</th>\n",
       "      <th>group</th>\n",
       "      <th>spi</th>\n",
       "      <th>spi_offense</th>\n",
       "      <th>spi_defense</th>\n",
       "      <th>win_group</th>\n",
       "      <th>sixteen</th>\n",
       "      <th>quarter</th>\n",
       "      <th>semi</th>\n",
       "      <th>cup</th>\n",
       "      <th>win</th>\n",
       "    </tr>\n",
       "  </thead>\n",
       "  <tbody>\n",
       "    <tr>\n",
       "      <th>0</th>\n",
       "      <td>Algeria</td>\n",
       "      <td>ALG</td>\n",
       "      <td>h</td>\n",
       "      <td>63.43</td>\n",
       "      <td>1.1208</td>\n",
       "      <td>1.1636</td>\n",
       "      <td>0.0631</td>\n",
       "      <td>0.2032</td>\n",
       "      <td>0.038517</td>\n",
       "      <td>0.007996</td>\n",
       "      <td>0.001021</td>\n",
       "      <td>0.000126</td>\n",
       "    </tr>\n",
       "    <tr>\n",
       "      <th>1</th>\n",
       "      <td>Argentina</td>\n",
       "      <td>ARG</td>\n",
       "      <td>f</td>\n",
       "      <td>90.00</td>\n",
       "      <td>2.8541</td>\n",
       "      <td>0.4494</td>\n",
       "      <td>0.7350</td>\n",
       "      <td>0.9279</td>\n",
       "      <td>0.669904</td>\n",
       "      <td>0.468159</td>\n",
       "      <td>0.281758</td>\n",
       "      <td>0.127799</td>\n",
       "    </tr>\n",
       "    <tr>\n",
       "      <th>2</th>\n",
       "      <td>Australia</td>\n",
       "      <td>AUS</td>\n",
       "      <td>b</td>\n",
       "      <td>69.45</td>\n",
       "      <td>1.6395</td>\n",
       "      <td>1.2349</td>\n",
       "      <td>0.0151</td>\n",
       "      <td>0.0762</td>\n",
       "      <td>0.009646</td>\n",
       "      <td>0.002943</td>\n",
       "      <td>0.000671</td>\n",
       "      <td>0.000093</td>\n",
       "    </tr>\n",
       "    <tr>\n",
       "      <th>3</th>\n",
       "      <td>Belgium</td>\n",
       "      <td>BEL</td>\n",
       "      <td>h</td>\n",
       "      <td>81.97</td>\n",
       "      <td>2.1373</td>\n",
       "      <td>0.7410</td>\n",
       "      <td>0.4781</td>\n",
       "      <td>0.7688</td>\n",
       "      <td>0.351536</td>\n",
       "      <td>0.148459</td>\n",
       "      <td>0.054136</td>\n",
       "      <td>0.014904</td>\n",
       "    </tr>\n",
       "    <tr>\n",
       "      <th>4</th>\n",
       "      <td>Bosnia and Herzegovina</td>\n",
       "      <td>BIH</td>\n",
       "      <td>f</td>\n",
       "      <td>80.31</td>\n",
       "      <td>2.3113</td>\n",
       "      <td>0.9861</td>\n",
       "      <td>0.1599</td>\n",
       "      <td>0.5589</td>\n",
       "      <td>0.261950</td>\n",
       "      <td>0.112098</td>\n",
       "      <td>0.031611</td>\n",
       "      <td>0.008964</td>\n",
       "    </tr>\n",
       "  </tbody>\n",
       "</table>\n",
       "</div>"
      ],
      "text/plain": [
       "                  country country_id group    spi  spi_offense  spi_defense  \\\n",
       "0                 Algeria        ALG     h  63.43       1.1208       1.1636   \n",
       "1               Argentina        ARG     f  90.00       2.8541       0.4494   \n",
       "2               Australia        AUS     b  69.45       1.6395       1.2349   \n",
       "3                 Belgium        BEL     h  81.97       2.1373       0.7410   \n",
       "4  Bosnia and Herzegovina        BIH     f  80.31       2.3113       0.9861   \n",
       "\n",
       "   win_group  sixteen   quarter      semi       cup       win  \n",
       "0     0.0631   0.2032  0.038517  0.007996  0.001021  0.000126  \n",
       "1     0.7350   0.9279  0.669904  0.468159  0.281758  0.127799  \n",
       "2     0.0151   0.0762  0.009646  0.002943  0.000671  0.000093  \n",
       "3     0.4781   0.7688  0.351536  0.148459  0.054136  0.014904  \n",
       "4     0.1599   0.5589  0.261950  0.112098  0.031611  0.008964  "
      ]
     },
     "execution_count": 10,
     "metadata": {},
     "output_type": "execute_result"
    }
   ],
   "source": [
    "import pandas as pd\n",
    "\n",
    "example_csv2 = \"https://github.com/fivethirtyeight/data/blob/15f210532b2a642e85738ddefa7a2945d47e2585/world-cup-predictions/wc-20140613-205820.csv?raw=True\"\n",
    "data2 = pd.read_csv(example_csv)\n",
    "data2.head()"
   ]
  },
  {
   "cell_type": "code",
   "execution_count": null,
   "id": "c420df6d",
   "metadata": {},
   "outputs": [],
   "source": [
    "data2.describe()"
   ]
  },
  {
   "cell_type": "code",
   "execution_count": 17,
   "id": "c38bb191",
   "metadata": {},
   "outputs": [
    {
     "name": "stdout",
     "output_type": "stream",
     "text": [
      "                  country country_id_x group_x  spi_x  spi_offense_x  \\\n",
      "0                 Algeria          ALG       h  63.43         1.1208   \n",
      "1               Argentina          ARG       f  90.00         2.8541   \n",
      "2               Australia          AUS       b  69.45         1.6395   \n",
      "3                 Belgium          BEL       h  81.97         2.1373   \n",
      "4  Bosnia and Herzegovina          BIH       f  80.31         2.3113   \n",
      "\n",
      "   spi_defense_x  win_group_x  sixteen_x  quarter_x    semi_x     cup_x  \\\n",
      "0         1.1636       0.0631     0.2032   0.038517  0.007996  0.001021   \n",
      "1         0.4494       0.7350     0.9279   0.669904  0.468159  0.281758   \n",
      "2         1.2349       0.0151     0.0762   0.009646  0.002943  0.000671   \n",
      "3         0.7410       0.4781     0.7688   0.351536  0.148459  0.054136   \n",
      "4         0.9861       0.1599     0.5589   0.261950  0.112098  0.031611   \n",
      "\n",
      "      win_x country_id_y group_y  spi_y  spi_offense_y  spi_defense_y  \\\n",
      "0  0.000126          ALG       h  63.43         1.1208         1.1636   \n",
      "1  0.127799          ARG       f  90.00         2.8541         0.4494   \n",
      "2  0.000093          AUS       b  69.45         1.6395         1.2349   \n",
      "3  0.014904          BEL       h  81.97         2.1373         0.7410   \n",
      "4  0.008964          BIH       f  80.31         2.3113         0.9861   \n",
      "\n",
      "   win_group_y  sixteen_y  quarter_y    semi_y     cup_y     win_y  \n",
      "0       0.0631     0.2032   0.038517  0.007996  0.001021  0.000126  \n",
      "1       0.7350     0.9279   0.669904  0.468159  0.281758  0.127799  \n",
      "2       0.0151     0.0762   0.009646  0.002943  0.000671  0.000093  \n",
      "3       0.4781     0.7688   0.351536  0.148459  0.054136  0.014904  \n",
      "4       0.1599     0.5589   0.261950  0.112098  0.031611  0.008964  \n"
     ]
    }
   ],
   "source": [
    "# Merge data and data2\n",
    "#merged_data = pd.concat([data, data2])\n",
    "\n",
    "# Reset the index after concatenation\n",
    "#merged_data.reset_index(drop=True, inplace=True)\n",
    "\n",
    "# Merge data and data2 using pd.merge\n",
    "merged_data = pd.merge(data, data2, on=\"country\")\n",
    "\n",
    "# Print the head of the merged DataFrame\n",
    "print(merged_data.head())"
   ]
  },
  {
   "cell_type": "markdown",
   "id": "8ac22e33",
   "metadata": {},
   "source": [
    "Compare two days' prediction of winning the World Cup:"
   ]
  },
  {
   "cell_type": "code",
   "execution_count": 18,
   "id": "57201681",
   "metadata": {},
   "outputs": [
    {
     "data": {
      "image/png": "[encoded data removed]",
      "text/plain": [
       "<Figure size 864x432 with 1 Axes>"
      ]
     },
     "metadata": {
      "needs_background": "light"
     },
     "output_type": "display_data"
    }
   ],
   "source": [
    "import pandas as pd\n",
    "import matplotlib.pyplot as plt\n",
    "\n",
    "# Your merged data (assuming you have it loaded as merged_data)\n",
    "# Example data:\n",
    "# merged_data = pd.read_csv('your_merged_data.csv')\n",
    "\n",
    "# Select the relevant columns for the comparison\n",
    "comparison_data = merged_data[['country', 'win_x', 'win_y']]\n",
    "\n",
    "# Set the 'country' column as the index\n",
    "comparison_data.set_index('country', inplace=True)\n",
    "\n",
    "# Plot a bar chart to compare 'win_x' and 'win_y' for each country\n",
    "comparison_data.plot(kind='bar', figsize=(12, 6))\n",
    "plt.title(\"Comparison of win_x and win_y for Each Country\")\n",
    "plt.xlabel(\"Country\")\n",
    "plt.ylabel(\"Win Probability\")\n",
    "plt.legend([\"win_x\", \"win_y\"])\n",
    "plt.show()\n"
   ]
  },
  {
   "cell_type": "markdown",
   "id": "57351bc8",
   "metadata": {},
   "source": [
    "We can see that the prediction of winning the World Cup is stable, the possibility didn't change in a week. The prediction of winning the World Cup is reliable."
   ]
  }
 ],
 "metadata": {
  "kernelspec": {
   "display_name": "Python 3",
   "language": "python",
   "name": "python3"
  },
  "language_info": {
   "codemirror_mode": {
    "name": "ipython",
    "version": 3
   },
   "file_extension": ".py",
   "mimetype": "text/x-python",
   "name": "python",
   "nbconvert_exporter": "python",
   "pygments_lexer": "ipython3",
   "version": "3.8.8"
  }
 },
 "nbformat": 4,
 "nbformat_minor": 5
}
